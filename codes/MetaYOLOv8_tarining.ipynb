{
  "nbformat": 4,
  "nbformat_minor": 0,
  "metadata": {
    "colab": {
      "provenance": []
    },
    "kernelspec": {
      "name": "python3",
      "display_name": "Python 3"
    },
    "language_info": {
      "name": "python"
    }
  },
  "cells": [
    {
      "cell_type": "code",
      "execution_count": null,
      "metadata": {
        "id": "i5mr7G-seV-G"
      },
      "outputs": [],
      "source": [
        "!pip install ultralytics"
      ]
    },
    {
      "cell_type": "code",
      "source": [
        "import os\n",
        "import shutil\n",
        "import random\n",
        "\n",
        "!pip install tqdm --upgrade\n",
        "from tqdm.notebook import tqdm"
      ],
      "metadata": {
        "id": "1N11IxtBfOVQ"
      },
      "execution_count": null,
      "outputs": []
    },
    {
      "cell_type": "code",
      "source": [
        "from ultralytics import YOLO"
      ],
      "metadata": {
        "id": "3T50D0KJfOYT"
      },
      "execution_count": null,
      "outputs": []
    },
    {
      "cell_type": "code",
      "source": [
        "model = YOLO(\"yolov8m.pt\")"
      ],
      "metadata": {
        "id": "oupIuuQdfObS"
      },
      "execution_count": null,
      "outputs": []
    },
    {
      "cell_type": "code",
      "source": [
        "#!yolo task=detect mode=predict model=/content/runs/detect/train2/weights/best.pt  data= meta.yaml imgsz=640"
      ],
      "metadata": {
        "id": "5iMZltl0fOeW"
      },
      "execution_count": null,
      "outputs": []
    },
    {
      "cell_type": "code",
      "source": [
        "\n",
        "from ultralytics import YOLO\n",
        "\n",
        "class TrafficLightYOLOv8(nn.Module):\n",
        "    def __init__(self):\n",
        "        super(TrafficLightYOLOv8, self).__init__()\n",
        "        self.model = YOLO('model')\n",
        "\n",
        "    def forward(self, x):\n",
        "        return self.model(x)\n",
        "\n",
        "class MAML:\n",
        "    def __init__(self, model, lr_inner=0.01, lr_outer=0.001):\n",
        "        self.model = model\n",
        "        self.lr_inner = lr_inner\n",
        "        self.lr_outer = lr_outer\n",
        "        self.optimizer = optim.Adam(self.model.parameters(), lr=self.lr_outer)\n",
        "\n",
        "    def inner_loop(self, support_data, support_labels):\n",
        "        \"\"\"Inner loop fine-tuning\"\"\"\n",
        "        inner_optimizer = optim.Adam(self.model.parameters(), lr=self.lr_inner)\n",
        "        criterion = nn.CrossEntropyLoss()\n",
        "\n",
        "        for _ in range(1):  # Single step update\n",
        "            outputs = self.model(support_data)\n",
        "            loss = criterion(outputs, support_labels)\n",
        "            inner_optimizer.zero_grad()\n",
        "            loss.backward()\n",
        "            inner_optimizer.step()\n",
        "\n",
        "        return loss\n",
        "\n",
        "    def outer_loop(self, tasks):\n",
        "        \"\"\"Outer loop meta-optimization\"\"\"\n",
        "        self.model.train()\n",
        "\n",
        "        meta_loss = 0\n",
        "        for support_data, support_labels, query_data, query_labels in tasks:\n",
        "            # Clone model for task-specific fine-tuning\n",
        "            task_model = TrafficLightYOLOv8()\n",
        "            task_model.load_state_dict(self.model.state_dict())\n",
        "\n",
        "            # Inner loop\n",
        "            self.inner_loop(support_data, support_labels)\n",
        "\n",
        "            # Query set evaluation\n",
        "            outputs = task_model(query_data)\n",
        "            criterion = nn.CrossEntropyLoss()\n",
        "            loss = criterion(outputs, query_labels)\n",
        "            meta_loss += loss\n",
        "\n",
        "        # Meta-optimization step\n",
        "        self.optimizer.zero_grad()\n",
        "        meta_loss.backward()\n",
        "        self.optimizer.step()\n",
        "\n",
        "        return meta_loss.item()\n",
        "\n",
        "# Data preparation\n",
        "# Placeholder code for data loading\n",
        "def load_data():\n",
        "    # Assume you have a data loading function that returns support and query sets\n",
        "    tasks = []\n",
        "    for _ in range(10):  # Example with 10 tasks\n",
        "        support_data = torch.randn(5, 3, 224, 224)  # 5 support examples\n",
        "        support_labels = torch.randint(0, 3, (5,))  # 3 classes\n",
        "        query_data = torch.randn(5, 3, 224, 224)  # 5 query examples\n",
        "        query_labels = torch.randint(0, 3, (5,))  # 3 classes\n",
        "        tasks.append((support_data, support_labels, query_data, query_labels))\n",
        "    return tasks\n",
        "\n",
        "# Training\n",
        "if __name__ == \"__main__\":\n",
        "    model = TrafficLightYOLOv8()\n",
        "    maml = MAML(model)\n",
        "\n",
        "    tasks = load_data()  # Load your tasks here\n",
        "    for epoch in range(100):  # Number of epochs\n",
        "        meta_loss = maml.outer_loop(tasks)\n",
        "        print(f\"Epoch {epoch+1}, Meta Loss: {meta_loss}\")\n"
      ],
      "metadata": {
        "id": "Phj5dsRvfOhY"
      },
      "execution_count": null,
      "outputs": []
    },
    {
      "cell_type": "code",
      "source": [
        "!yolo task=detect mode=predict model=/content/foggy_model_meta.pt conf=0.4 source=/content/IMG-20230220-WA0036_jpg.rf.a3b8b3d823a8f3210bd9d4f1dc403407.png show=True"
      ],
      "metadata": {
        "id": "n3lGHd6OfOn5"
      },
      "execution_count": null,
      "outputs": []
    }
  ]
}